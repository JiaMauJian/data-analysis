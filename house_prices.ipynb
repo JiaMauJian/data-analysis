{
 "cells": [
  {
   "cell_type": "markdown",
   "metadata": {},
   "source": [
    "# House Prices: Advanced Regression Techniques"
   ]
  },
  {
   "cell_type": "markdown",
   "metadata": {},
   "source": [
    "## 資料前處理 (懶人法)"
   ]
  },
  {
   "cell_type": "code",
   "execution_count": 162,
   "metadata": {
    "collapsed": true
   },
   "outputs": [],
   "source": [
    "import pandas as pd\n",
    "import numpy as np\n",
    "import matplotlib.pyplot as plt\n",
    "from scipy.stats import skew\n",
    "from sklearn.preprocessing import StandardScaler\n",
    "\n",
    "train  = pd.read_csv(\"./house prices/train.csv\")\n",
    "test = pd.read_csv(\"./house prices/test.csv\")\n",
    "\n",
    "all_data = pd.concat((train.loc[:,'MSSubClass':'SaleCondition'],\n",
    "                      test.loc[:,'MSSubClass':'SaleCondition']))\n",
    "\n",
    "# Data Preprocessing\n",
    "numeric_feats = all_data.dtypes[all_data.dtypes != \"object\"].index\n",
    "\n",
    "skewed_feats = all_data[numeric_feats].apply(lambda x: skew(x.dropna())) #compute skewness\n",
    "skewed_feats = skewed_feats[skewed_feats > 0.75]\n",
    "skewed_feats = skewed_feats.index\n",
    "\n",
    "all_data[skewed_feats] = np.log1p(all_data[skewed_feats])\n",
    "\n",
    "all_data = pd.get_dummies(all_data)\n",
    "\n",
    "all_data = all_data.fillna(all_data.median())\n",
    "    \n",
    "train[\"SalePrice\"] = np.log1p(train[\"SalePrice\"])\n",
    "\n",
    "scaler = StandardScaler().fit(all_data[numeric_feats])\n",
    "all_data[numeric_feats] = scaler.transform(all_data[numeric_feats])\n",
    "    \n",
    "#creating matrices for sklearn:\n",
    "X = all_data[:train.shape[0]]\n",
    "X_test = all_data[train.shape[0]:]\n",
    "y = train.SalePrice"
   ]
  },
  {
   "cell_type": "markdown",
   "metadata": {},
   "source": [
    "# Lasso Model"
   ]
  },
  {
   "cell_type": "code",
   "execution_count": 163,
   "metadata": {
    "collapsed": false
   },
   "outputs": [
    {
     "name": "stdout",
     "output_type": "stream",
     "text": [
      "alpha = 0.000001, rmse = 0.135041\n",
      "alpha = 0.000010, rmse = 0.133576\n",
      "alpha = 0.000100, rmse = 0.126635\n",
      "alpha = 0.001000, rmse = 0.122480\n",
      "alpha = 0.010000, rmse = 0.140348\n",
      "alpha = 0.100000, rmse = 0.215596\n",
      "alpha = 1.000000, rmse = 0.398637\n"
     ]
    },
    {
     "data": {
      "image/png": "[encoded data removed]",
      "text/plain": [
       "<matplotlib.figure.Figure at 0x140aeeb8>"
      ]
     },
     "metadata": {},
     "output_type": "display_data"
    }
   ],
   "source": [
    "from sklearn.linear_model import Lasso, LassoCV\n",
    "model_lasso = Lasso()\n",
    "\n",
    "from sklearn.model_selection import cross_val_score\n",
    "\n",
    "rmse = []\n",
    "\n",
    "def rmse_cv(X, y):\n",
    "    rmse_list = []\n",
    "    alphas = []\n",
    "    for alpha in np.arange(-6, 1):    \n",
    "        rmse = np.sqrt(-cross_val_score(Lasso(alpha=10**alpha), X, y, scoring=\"neg_mean_squared_error\", cv = 10))\n",
    "        print 'alpha = %f, rmse = %f' % (10**alpha, rmse.mean())    \n",
    "        alphas.append(10**alpha)\n",
    "        rmse_list.append(rmse.mean())\n",
    "    return rmse_list, alphas\n",
    "\n",
    "rmse, alphas = rmse_cv(X, y)\n",
    "\n",
    "cv_lasso = pd.Series(rmse, index=alphas)\n",
    "cv_lasso.plot(logx=True)\n",
    "plt.show()"
   ]
  },
  {
   "cell_type": "markdown",
   "metadata": {},
   "source": [
    "## 確定cross-validation驗證完model後，把全部的X再拿進去train一次"
   ]
  },
  {
   "cell_type": "code",
   "execution_count": 164,
   "metadata": {
    "collapsed": false
   },
   "outputs": [
    {
     "data": {
      "text/plain": [
       "Lasso(alpha=0.001, copy_X=True, fit_intercept=True, max_iter=1000,\n",
       "   normalize=False, positive=False, precompute=False, random_state=None,\n",
       "   selection='cyclic', tol=0.0001, warm_start=False)"
      ]
     },
     "execution_count": 164,
     "metadata": {},
     "output_type": "execute_result"
    }
   ],
   "source": [
    "model_lasso = Lasso(0.001)\n",
    "model_lasso.fit(X, y)"
   ]
  },
  {
   "cell_type": "markdown",
   "metadata": {},
   "source": [
    "### alpha = 0.001000, rmse = 0.122480\n",
    "### Kaggle public score = 0.12198"
   ]
  },
  {
   "cell_type": "markdown",
   "metadata": {},
   "source": [
    "# NN (keras)\n",
    "\n",
    "- 先確定有over-fitting，再去想Early Stopping, Regularization, Dropout等工具"
   ]
  },
  {
   "cell_type": "code",
   "execution_count": 165,
   "metadata": {
    "collapsed": false
   },
   "outputs": [],
   "source": [
    "from keras.callbacks import Callback, EarlyStopping\n",
    "from keras.models import Sequential\n",
    "from keras.layers import Dense, Activation, Dropout\n",
    "from keras.regularizers import l1, l2\n",
    "from keras.wrappers.scikit_learn import KerasRegressor\n",
    "from sklearn.model_selection import GridSearchCV"
   ]
  },
  {
   "cell_type": "markdown",
   "metadata": {},
   "source": [
    "## keras callback function\n",
    "\n",
    "* 改寫成rmse計算方式"
   ]
  },
  {
   "cell_type": "code",
   "execution_count": 166,
   "metadata": {
    "collapsed": true
   },
   "outputs": [],
   "source": [
    "p = X.shape[1]\n",
    "x_train = X.values\n",
    "y_train = y.values"
   ]
  },
  {
   "cell_type": "code",
   "execution_count": 167,
   "metadata": {
    "collapsed": false
   },
   "outputs": [],
   "source": [
    "class LossHistory(Callback):\n",
    "    def on_train_begin(self, logs={}):\n",
    "        self.losses = []\n",
    "        self.val_losses = []\n",
    "    def on_epoch_end(self, batch, logs={}):\n",
    "        self.losses.append(np.sqrt(logs.get('loss')))\n",
    "        \n",
    "        if logs.get('val_loss') == None:\n",
    "            #print 'rmse loss = %f' % (np.sqrt(logs.get('loss')))\n",
    "            pass\n",
    "        else:\n",
    "            self.val_losses.append(np.sqrt(logs.get('val_loss')))\n",
    "            #print 'rmse loss = %f, val_loss = %f' % (np.sqrt(logs.get('loss')), np.sqrt(logs.get('val_loss')))"
   ]
  },
  {
   "cell_type": "code",
   "execution_count": 168,
   "metadata": {
    "collapsed": true
   },
   "outputs": [],
   "source": [
    "def nn_model(neurons=10):        \n",
    "    \n",
    "    print 'model: p->10->1'\n",
    "    \n",
    "    model = Sequential() \n",
    "    \n",
    "    model.add(Dense(neurons, input_dim=p, activation='relu', name='1st hidden layer'))    \n",
    "        \n",
    "    model.add(Dense(1, activation='relu', name='output'))\n",
    "    \n",
    "    model.compile(loss='mean_squared_error', optimizer='adam')\n",
    "    \n",
    "    return model"
   ]
  },
  {
   "cell_type": "markdown",
   "metadata": {},
   "source": [
    "## try 1 hidden layer, 10 neurons"
   ]
  },
  {
   "cell_type": "code",
   "execution_count": 169,
   "metadata": {
    "collapsed": false
   },
   "outputs": [
    {
     "name": "stdout",
     "output_type": "stream",
     "text": [
      "model: p->10->1\n"
     ]
    },
    {
     "data": {
      "text/plain": [
       "<keras.callbacks.History at 0x1d211f60>"
      ]
     },
     "execution_count": 169,
     "metadata": {},
     "output_type": "execute_result"
    }
   ],
   "source": [
    "neurons = 10\n",
    "model = nn_model(neurons)\n",
    "#model.summary()\n",
    "#model.load_weights(\"weights.best.hdf5\")\n",
    "history = LossHistory()\n",
    "model.fit(x_train, y_train, shuffle=True, nb_epoch=100, batch_size=10, validation_split=0.1, callbacks=[history], verbose=0)"
   ]
  },
  {
   "cell_type": "markdown",
   "metadata": {},
   "source": [
    "### 看不出over-fitting (試過epoch1000次，也一樣)"
   ]
  },
  {
   "cell_type": "code",
   "execution_count": 170,
   "metadata": {
    "collapsed": false
   },
   "outputs": [
    {
     "data": {
      "image/png": "[encoded data removed]",
      "text/plain": [
       "<matplotlib.figure.Figure at 0x1f04da20>"
      ]
     },
     "metadata": {},
     "output_type": "display_data"
    }
   ],
   "source": [
    "str1 = ' rmse = %.6f' % (float(history.losses[len(history.losses)-1]))\n",
    "str2 = ' val rmse = %.6f' % (float(history.val_losses[len(history.val_losses)-1]))\n",
    "plt.title(str1 + str2)\n",
    "plt.plot(history.losses)\n",
    "plt.plot(history.val_losses)\n",
    "plt.ylim([0, 0.5])\n",
    "plt.show()"
   ]
  },
  {
   "cell_type": "markdown",
   "metadata": {},
   "source": [
    "## Cross-Validation\n",
    "\n",
    "- p.46 http://www.slideshare.net/tw_dsconf/ss-70083878\n",
    "- 請問一下為何評估NN的架構沒有提到用Cross Validation K-Fold的方式\n",
    "- 是否因為這整個過程太花時間，不如用直覺 + try and error能更快找到好的NN架構\n",
    "\n",
    "\n",
    "- 張鈞閔\n",
    "- 一般會作 cross-validation 的原因是，擔心切 training/validation set 時會有 bias，所以才作 cross-validation 來避免這種情況。\n",
    "- cross-validation 是協助驗證 model 表現的穩定性，而不是在尋找好的 model。\n",
    "\n",
    "\n",
    "- 你說的沒錯，要做 cross-validation 會比較好，以免錯誤評估模型 :)\n",
    "\n",
    "\n",
    "- 但大多時候 training NN 遇到的問題，都不是因為 cross-validation，而是 model 的架構不適合。\n",
    "- 加上 NN training 大多都需要一段時間，對一個架構就做 cross-validation <span style='color:red'>很耗時</span>，所以我傾向於:\n",
    "- <span style='color:blue'>先切一份 training/validation set -> 用這份 training/validation set 找到一個好的網絡架構 -> 再做 cross-validation 驗證其穩定性。</span>"
   ]
  },
  {
   "cell_type": "code",
   "execution_count": 171,
   "metadata": {
    "collapsed": false
   },
   "outputs": [
    {
     "name": "stdout",
     "output_type": "stream",
     "text": [
      "model: p->10->1\n",
      "model: p->10->1\n",
      "model: p->10->1\n",
      "model: p->10->1\n",
      "model: p->10->1\n",
      "model: p->10->1\n",
      "model: p->10->1\n",
      "model: p->10->1\n",
      "model: p->10->1\n",
      "model: p->10->1\n",
      "rmse: 0.163031\n"
     ]
    }
   ],
   "source": [
    "# build_fn的function不能有參數\n",
    "estimator = KerasRegressor(build_fn=nn_model, nb_epoch=100, batch_size=10, verbose=0)\n",
    "rmse_results = np.sqrt(-cross_val_score(estimator, x_train, y_train, scoring=\"neg_mean_squared_error\", cv=10))\n",
    "print \"rmse: %.6f\" % (rmse_results.mean())"
   ]
  },
  {
   "cell_type": "markdown",
   "metadata": {},
   "source": [
    "## 同樣確定cross-validation驗證完model後，把全部的X再拿進去train一次\n",
    "\n",
    "### 訓練資料越多越好"
   ]
  },
  {
   "cell_type": "code",
   "execution_count": 172,
   "metadata": {
    "collapsed": false
   },
   "outputs": [
    {
     "name": "stdout",
     "output_type": "stream",
     "text": [
      "model: p->10->1\n",
      "model: p->10->1\n"
     ]
    },
    {
     "data": {
      "text/plain": [
       "<keras.callbacks.History at 0x2194c0f0>"
      ]
     },
     "execution_count": 172,
     "metadata": {},
     "output_type": "execute_result"
    }
   ],
   "source": [
    "history = LossHistory()\n",
    "model = nn_model(neurons)\n",
    "model.fit(x_train, y_train, shuffle=True, nb_epoch=100, batch_size=10, callbacks=[history], verbose=0)\n",
    "\n",
    "history2 = LossHistory()\n",
    "model2 = nn_model(neurons)\n",
    "model2.fit(x_train, y_train, shuffle=True, nb_epoch=100, batch_size=10, validation_split=0.1, callbacks=[history2], verbose=0)"
   ]
  },
  {
   "cell_type": "code",
   "execution_count": 173,
   "metadata": {
    "collapsed": false
   },
   "outputs": [
    {
     "data": {
      "image/png": "[encoded data removed]",
      "text/plain": [
       "<matplotlib.figure.Figure at 0x2194c908>"
      ]
     },
     "metadata": {},
     "output_type": "display_data"
    }
   ],
   "source": [
    "plt.plot(history.losses, label='all data')\n",
    "plt.plot(history2.losses, label='data split out validation')\n",
    "plt.legend()\n",
    "plt.ylim([0, 0.5])\n",
    "plt.show()"
   ]
  },
  {
   "cell_type": "markdown",
   "metadata": {},
   "source": [
    "### nn model\n",
    "### cv_10, p - 10 - 1, rmse = 0.160480\n",
    "### kaggle public score = 0.16617"
   ]
  },
  {
   "cell_type": "markdown",
   "metadata": {},
   "source": [
    "## Early Stopping (另外一提)\n",
    "\n",
    "- 實務上validation是鋸齒狀，實在很難抓到停止的點\n",
    "- 另一種方式是用keras的ModelCheckpoint，把最小的validation結果存起來"
   ]
  },
  {
   "cell_type": "code",
   "execution_count": 174,
   "metadata": {
    "collapsed": false
   },
   "outputs": [
    {
     "name": "stdout",
     "output_type": "stream",
     "text": [
      "model: p->10->1\n"
     ]
    }
   ],
   "source": [
    "from keras.callbacks import ModelCheckpoint\n",
    "filepath=\"weights.best.hdf5\"\n",
    "checkpoint = ModelCheckpoint(filepath, monitor='val_loss', verbose=0, save_best_only=True, mode='min')\n",
    "model = nn_model(neurons)\n",
    "history = LossHistory()\n",
    "hist = model.fit(x_train, y_train, nb_epoch=100, batch_size=10, validation_split=0.2, callbacks=[history, checkpoint], verbose=0)"
   ]
  },
  {
   "cell_type": "markdown",
   "metadata": {},
   "source": [
    "## 在還沒搞懂cross-validation真正含意前，我try and error好幾個nn model\n",
    "\n",
    "## <span style='color:blue'>先切一份 training/validation set -> 用這份 training/validation set 找到一個好的網絡架構 -> 再做 cross-validation 驗證其穩定性。</span>\n",
    "\n",
    "## 其他NN model練習 (有點亂試一通)\n",
    "\n",
    "- NN Model應該從簡單的開始試\n",
    "- 底下這些Model好像都看不到over-fitting???\n",
    "\n",
    "- Training結果不好，再來考慮換Activation Function\n",
    "- <span style='color:red'>當你Validation的結果變差的時候，再來考慮用EarlyStopping, Regularization, Dropout</span>\n",
    "\n",
    "- 1 hidden\n",
    "![alt tag](https://github.com/JiaMauJian/data-analysis/blob/master/house%20prices/1%20hidden.png?raw=true)\n",
    "- 2 hidden\n",
    "![alt tag](https://github.com/JiaMauJian/data-analysis/blob/master/house%20prices/2%20hidden.png?raw=true)\n",
    "- 3 hidden\n",
    "![alt tag](https://github.com/JiaMauJian/data-analysis/blob/master/house%20prices/3%20hidden.png?raw=true)\n",
    "- 3 hidden + dropput \n",
    "- 為什麼dropout在training結果上比較差? (http://speech.ee.ntu.edu.tw/~tlkagk/courses/ML_2016/Lecture/DNN%20tip.pdf#page=38)\n",
    "- 聽Youtube比較清楚\n",
    "- Training做好了，再去想怎麼把Testing做好\n",
    "![alt tag](https://github.com/JiaMauJian/data-analysis/blob/master/house%20prices/dropout.png?raw=true)"
   ]
  },
  {
   "cell_type": "markdown",
   "metadata": {},
   "source": [
    "## 胡亂試了3層hidden layer, 100 neurons, dropout一下\n",
    "## 這樣分數可以衝到public score = 0.12003\n",
    "\n",
    "- hidden layer = 3\n",
    "- dropout = 0.01\n",
    "- preds = 0.7*lasso_pred + 0.3*dnn_pred\n",
    "\n"
   ]
  },
  {
   "cell_type": "markdown",
   "metadata": {},
   "source": [
    "## output (把Lasso和NN加在一起)"
   ]
  },
  {
   "cell_type": "code",
   "execution_count": 175,
   "metadata": {
    "collapsed": true
   },
   "outputs": [],
   "source": [
    "lasso_pred = np.expm1(model_lasso.predict(X_test))\n",
    "dnn_pred = np.expm1(model.predict(X_test.values))\n",
    "dnn_pred = dnn_pred[:, 0]"
   ]
  },
  {
   "cell_type": "code",
   "execution_count": 176,
   "metadata": {
    "collapsed": false
   },
   "outputs": [
    {
     "data": {
      "image/png": "[encoded data removed]",
      "text/plain": [
       "<matplotlib.figure.Figure at 0x1bd600b8>"
      ]
     },
     "metadata": {},
     "output_type": "display_data"
    }
   ],
   "source": [
    "df = pd.DataFrame({\"lasso_pred\":lasso_pred,\"dnn_pred\":dnn_pred})\n",
    "df.plot(x = \"lasso_pred\", y = \"dnn_pred\", kind = \"scatter\")\n",
    "plt.show()"
   ]
  },
  {
   "cell_type": "markdown",
   "metadata": {},
   "source": [
    "## 0.7的lasso配0.3的nn 分數是最好的 (神奇)\n",
    "\n",
    "- 試過0.5+0.5或是0.3 lasso + 0.7nn 都沒比較好"
   ]
  },
  {
   "cell_type": "code",
   "execution_count": 177,
   "metadata": {
    "collapsed": true
   },
   "outputs": [],
   "source": [
    "preds = 0.7*lasso_pred + 0.3*dnn_pred\n",
    "\n",
    "pred_df = pd.DataFrame(preds, index=test[\"Id\"], columns=[\"SalePrice\"])\n",
    "pred_df.to_csv('output.csv', header=True, index_label='Id')"
   ]
  },
  {
   "cell_type": "code",
   "execution_count": null,
   "metadata": {
    "collapsed": true
   },
   "outputs": [],
   "source": []
  }
 ],
 "metadata": {
  "anaconda-cloud": {},
  "kernelspec": {
   "display_name": "Python [conda root]",
   "language": "python",
   "name": "conda-root-py"
  },
  "language_info": {
   "codemirror_mode": {
    "name": "ipython",
    "version": 2
   },
   "file_extension": ".py",
   "mimetype": "text/x-python",
   "name": "python",
   "nbconvert_exporter": "python",
   "pygments_lexer": "ipython2",
   "version": "2.7.12"
  }
 },
 "nbformat": 4,
 "nbformat_minor": 1
}
